{
 "cells": [
  {
   "cell_type": "code",
   "execution_count": 1,
   "id": "d6f2f916",
   "metadata": {},
   "outputs": [],
   "source": [
    "import pandas as pd\n",
    "import matplotlib.pyplot as plt"
   ]
  },
  {
   "cell_type": "code",
   "execution_count": 8,
   "id": "ed3e7c2f",
   "metadata": {},
   "outputs": [],
   "source": [
    "covid = pd.read_csv(r\"E:\\University\\Project\\healthcare-icu-forecasting\\healthcare-icu-forecasting\\data\\data_processed\\processed_owid_data.csv\")\n",
    "flu = pd.read_csv(r\"E:\\University\\Project\\healthcare-icu-forecasting\\healthcare-icu-forecasting\\data\\data_processed\\processed_flunet_data.csv\")"
   ]
  },
  {
   "cell_type": "code",
   "execution_count": 12,
   "id": "3bd2105b",
   "metadata": {},
   "outputs": [
    {
     "name": "stdout",
     "output_type": "stream",
     "text": [
      "  iso_code continent     location        date  total_cases  new_cases  \\\n",
      "0      AFG      Asia  Afghanistan  2020-01-05          0.0        0.0   \n",
      "1      AFG      Asia  Afghanistan  2020-01-06          0.0        0.0   \n",
      "2      AFG      Asia  Afghanistan  2020-01-07          0.0        0.0   \n",
      "3      AFG      Asia  Afghanistan  2020-01-08          0.0        0.0   \n",
      "4      AFG      Asia  Afghanistan  2020-01-09          0.0        0.0   \n",
      "\n",
      "   new_cases_smoothed  total_deaths  new_deaths  new_deaths_smoothed  ...  \\\n",
      "0                 NaN           0.0         0.0                  NaN  ...   \n",
      "1                 NaN           0.0         0.0                  NaN  ...   \n",
      "2                 NaN           0.0         0.0                  NaN  ...   \n",
      "3                 NaN           0.0         0.0                  NaN  ...   \n",
      "4                 NaN           0.0         0.0                  NaN  ...   \n",
      "\n",
      "   male_smokers  handwashing_facilities  hospital_beds_per_thousand  \\\n",
      "0           NaN                   37.75                         0.5   \n",
      "1           NaN                   37.75                         0.5   \n",
      "2           NaN                   37.75                         0.5   \n",
      "3           NaN                   37.75                         0.5   \n",
      "4           NaN                   37.75                         0.5   \n",
      "\n",
      "   life_expectancy  human_development_index  population  \\\n",
      "0            64.83                     0.51    41128772   \n",
      "1            64.83                     0.51    41128772   \n",
      "2            64.83                     0.51    41128772   \n",
      "3            64.83                     0.51    41128772   \n",
      "4            64.83                     0.51    41128772   \n",
      "\n",
      "   excess_mortality_cumulative_absolute  excess_mortality_cumulative  \\\n",
      "0                                   NaN                          NaN   \n",
      "1                                   NaN                          NaN   \n",
      "2                                   NaN                          NaN   \n",
      "3                                   NaN                          NaN   \n",
      "4                                   NaN                          NaN   \n",
      "\n",
      "   excess_mortality  excess_mortality_cumulative_per_million  \n",
      "0               NaN                                      NaN  \n",
      "1               NaN                                      NaN  \n",
      "2               NaN                                      NaN  \n",
      "3               NaN                                      NaN  \n",
      "4               NaN                                      NaN  \n",
      "\n",
      "[5 rows x 67 columns]\n",
      "  WHOREGION FLUSEASON HEMISPHERE          ITZ COUNTRY_CODE  \\\n",
      "0       AMR        YR         NH  FLU_CNT_AMC          ABW   \n",
      "1       AMR        YR         NH  FLU_CNT_AMC          ABW   \n",
      "2       AMR        YR         NH  FLU_CNT_AMC          ABW   \n",
      "3       AMR        YR         NH  FLU_CNT_AMC          ABW   \n",
      "4       AMR        YR         NH  FLU_CNT_AMC          ABW   \n",
      "\n",
      "  COUNTRY_AREA_TERRITORY ISO_WEEKSTARTDATE  ISO_YEAR  ISO_WEEK  \\\n",
      "0                  Aruba        2017-01-09      2017         2   \n",
      "1                  Aruba        2017-02-13      2017         7   \n",
      "2                  Aruba        2017-01-16      2017         3   \n",
      "3                  Aruba        2017-02-20      2017         8   \n",
      "4                  Aruba        2017-01-30      2017         5   \n",
      "\n",
      "  MMWR_WEEKSTARTDATE  ...  OTHERRESPVIRUS  OTHER_RESPVIRUS_DETAILS  \\\n",
      "0         2017-01-08  ...             NaN                      NaN   \n",
      "1         2017-02-12  ...             NaN                      NaN   \n",
      "2         2017-01-15  ...             NaN                      NaN   \n",
      "3         2017-02-19  ...             NaN                      NaN   \n",
      "4         2017-01-29  ...             NaN                      NaN   \n",
      "\n",
      "  LAB_RESULT_COMMENT  WCR_COMMENT  ISO2   ISOYW  MMWRYW  PSOURCE_SUBTYPE_INF  \\\n",
      "0                NaN          NaN    AW  201702  201702                  NaN   \n",
      "1                NaN          NaN    AW  201707  201707                  NaN   \n",
      "2                NaN          NaN    AW  201703  201703                  NaN   \n",
      "3                NaN          NaN    AW  201708  201708                  NaN   \n",
      "4                NaN          NaN    AW  201705  201705                  NaN   \n",
      "\n",
      "   PSOURCE_PPOS_INF  PSOURCE_RSV  \n",
      "0               NaN          NaN  \n",
      "1               NaN          NaN  \n",
      "2               NaN          NaN  \n",
      "3               NaN          NaN  \n",
      "4               NaN          NaN  \n",
      "\n",
      "[5 rows x 53 columns]\n"
     ]
    }
   ],
   "source": [
    "print(covid.head())\n",
    "print(flu.head())"
   ]
  },
  {
   "cell_type": "code",
   "execution_count": null,
   "id": "431e4ac4",
   "metadata": {},
   "outputs": [
    {
     "data": {
      "image/png": "[encoded data removed]",
      "text/plain": [
       "<Figure size 640x480 with 1 Axes>"
      ]
     },
     "metadata": {},
     "output_type": "display_data"
    }
   ],
   "source": [
    "india_covid = covid[covid['location'] == \"India\"]\n",
    "india_covid.plot(x=\"date\", y=\"icu_patients\", title=\"ICU Patients in India\")\n",
    "plt.show()"
   ]
  },
  {
   "cell_type": "code",
   "execution_count": 17,
   "id": "ba3e53a9",
   "metadata": {},
   "outputs": [
    {
     "data": {
      "image/png": "[encoded data removed]",
      "text/plain": [
       "<Figure size 640x480 with 1 Axes>"
      ]
     },
     "metadata": {},
     "output_type": "display_data"
    }
   ],
   "source": [
    "india_flu = flu[flu['COUNTRY_CODE'] == \"India\"]\n",
    "india_flu.plot(x=\"ISO_WEEKSTARTDATE\", y=\"INF_ALL\", title=\"Influenza Cases in India\")\n",
    "plt.show()"
   ]
  }
 ],
 "metadata": {
  "kernelspec": {
   "display_name": "Python 3",
   "language": "python",
   "name": "python3"
  },
  "language_info": {
   "codemirror_mode": {
    "name": "ipython",
    "version": 3
   },
   "file_extension": ".py",
   "mimetype": "text/x-python",
   "name": "python",
   "nbconvert_exporter": "python",
   "pygments_lexer": "ipython3",
   "version": "3.10.11"
  }
 },
 "nbformat": 4,
 "nbformat_minor": 5
}
