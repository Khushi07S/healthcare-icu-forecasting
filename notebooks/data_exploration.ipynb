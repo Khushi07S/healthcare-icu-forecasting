{
 "cells": [
  {
   "cell_type": "code",
   "execution_count": 6,
   "id": "43dd6131",
   "metadata": {},
   "outputs": [],
   "source": [
    "import pandas as pd"
   ]
  },
  {
   "cell_type": "code",
   "execution_count": 8,
   "id": "b00aa29e",
   "metadata": {},
   "outputs": [],
   "source": [
    "flunet = pd.read_csv(\"../data/Flunet.csv\")\n",
    "covid = pd.read_csv(\"../data/owid-covid-data.csv\")"
   ]
  },
  {
   "cell_type": "code",
   "execution_count": 9,
   "id": "567346a6",
   "metadata": {},
   "outputs": [
    {
     "name": "stdout",
     "output_type": "stream",
     "text": [
      "FluNet shape: (174505, 53)\n",
      "COVID shape: (429435, 67)\n"
     ]
    }
   ],
   "source": [
    "print(\"FluNet shape:\", flunet.shape)\n",
    "print(\"COVID shape:\", covid.shape)"
   ]
  },
  {
   "cell_type": "code",
   "execution_count": 10,
   "id": "8090303f",
   "metadata": {},
   "outputs": [
    {
     "data": {
      "text/plain": [
       "(  WHOREGION FLUSEASON HEMISPHERE          ITZ COUNTRY_CODE  \\\n",
       " 0       AMR        YR         NH  FLU_CNT_AMC          ABW   \n",
       " 1       AMR        YR         NH  FLU_CNT_AMC          ABW   \n",
       " 2       AMR        YR         NH  FLU_CNT_AMC          ABW   \n",
       " 3       AMR        YR         NH  FLU_CNT_AMC          ABW   \n",
       " 4       AMR        YR         NH  FLU_CNT_AMC          ABW   \n",
       " \n",
       "   COUNTRY_AREA_TERRITORY ISO_WEEKSTARTDATE  ISO_YEAR  ISO_WEEK  \\\n",
       " 0                  Aruba        2017-01-09      2017         2   \n",
       " 1                  Aruba        2017-02-13      2017         7   \n",
       " 2                  Aruba        2017-01-16      2017         3   \n",
       " 3                  Aruba        2017-02-20      2017         8   \n",
       " 4                  Aruba        2017-01-30      2017         5   \n",
       " \n",
       "   MMWR_WEEKSTARTDATE  ...  OTHERRESPVIRUS  OTHER_RESPVIRUS_DETAILS  \\\n",
       " 0         2017-01-08  ...             NaN                      NaN   \n",
       " 1         2017-02-12  ...             NaN                      NaN   \n",
       " 2         2017-01-15  ...             NaN                      NaN   \n",
       " 3         2017-02-19  ...             NaN                      NaN   \n",
       " 4         2017-01-29  ...             NaN                      NaN   \n",
       " \n",
       "   LAB_RESULT_COMMENT  WCR_COMMENT  ISO2   ISOYW  MMWRYW  PSOURCE_SUBTYPE_INF  \\\n",
       " 0                NaN          NaN    AW  201702  201702                  NaN   \n",
       " 1                NaN          NaN    AW  201707  201707                  NaN   \n",
       " 2                NaN          NaN    AW  201703  201703                  NaN   \n",
       " 3                NaN          NaN    AW  201708  201708                  NaN   \n",
       " 4                NaN          NaN    AW  201705  201705                  NaN   \n",
       " \n",
       "    PSOURCE_PPOS_INF  PSOURCE_RSV  \n",
       " 0               NaN          NaN  \n",
       " 1               NaN          NaN  \n",
       " 2               NaN          NaN  \n",
       " 3               NaN          NaN  \n",
       " 4               NaN          NaN  \n",
       " \n",
       " [5 rows x 53 columns],\n",
       "   iso_code continent     location        date  total_cases  new_cases  \\\n",
       " 0      AFG      Asia  Afghanistan  2020-01-05          0.0        0.0   \n",
       " 1      AFG      Asia  Afghanistan  2020-01-06          0.0        0.0   \n",
       " 2      AFG      Asia  Afghanistan  2020-01-07          0.0        0.0   \n",
       " 3      AFG      Asia  Afghanistan  2020-01-08          0.0        0.0   \n",
       " 4      AFG      Asia  Afghanistan  2020-01-09          0.0        0.0   \n",
       " \n",
       "    new_cases_smoothed  total_deaths  new_deaths  new_deaths_smoothed  ...  \\\n",
       " 0                 NaN           0.0         0.0                  NaN  ...   \n",
       " 1                 NaN           0.0         0.0                  NaN  ...   \n",
       " 2                 NaN           0.0         0.0                  NaN  ...   \n",
       " 3                 NaN           0.0         0.0                  NaN  ...   \n",
       " 4                 NaN           0.0         0.0                  NaN  ...   \n",
       " \n",
       "    male_smokers  handwashing_facilities  hospital_beds_per_thousand  \\\n",
       " 0           NaN                   37.75                         0.5   \n",
       " 1           NaN                   37.75                         0.5   \n",
       " 2           NaN                   37.75                         0.5   \n",
       " 3           NaN                   37.75                         0.5   \n",
       " 4           NaN                   37.75                         0.5   \n",
       " \n",
       "    life_expectancy  human_development_index  population  \\\n",
       " 0            64.83                     0.51    41128772   \n",
       " 1            64.83                     0.51    41128772   \n",
       " 2            64.83                     0.51    41128772   \n",
       " 3            64.83                     0.51    41128772   \n",
       " 4            64.83                     0.51    41128772   \n",
       " \n",
       "    excess_mortality_cumulative_absolute  excess_mortality_cumulative  \\\n",
       " 0                                   NaN                          NaN   \n",
       " 1                                   NaN                          NaN   \n",
       " 2                                   NaN                          NaN   \n",
       " 3                                   NaN                          NaN   \n",
       " 4                                   NaN                          NaN   \n",
       " \n",
       "    excess_mortality  excess_mortality_cumulative_per_million  \n",
       " 0               NaN                                      NaN  \n",
       " 1               NaN                                      NaN  \n",
       " 2               NaN                                      NaN  \n",
       " 3               NaN                                      NaN  \n",
       " 4               NaN                                      NaN  \n",
       " \n",
       " [5 rows x 67 columns])"
      ]
     },
     "execution_count": 10,
     "metadata": {},
     "output_type": "execute_result"
    }
   ],
   "source": [
    "flunet.head(), covid.head()"
   ]
  },
  {
   "cell_type": "code",
   "execution_count": 11,
   "id": "aae70b4b",
   "metadata": {},
   "outputs": [
    {
     "data": {
      "text/plain": [
       "iso_code           0\n",
       "continent      26525\n",
       "location           0\n",
       "date               0\n",
       "total_cases    17631\n",
       "dtype: int64"
      ]
     },
     "execution_count": 11,
     "metadata": {},
     "output_type": "execute_result"
    }
   ],
   "source": [
    "flunet.isnull().sum().head()\n",
    "covid.isnull().sum().head()"
   ]
  },
  {
   "cell_type": "code",
   "execution_count": 12,
   "id": "94b1df17",
   "metadata": {},
   "outputs": [
    {
     "name": "stdout",
     "output_type": "stream",
     "text": [
      "Index(['WHOREGION', 'FLUSEASON', 'HEMISPHERE', 'ITZ', 'COUNTRY_CODE',\n",
      "       'COUNTRY_AREA_TERRITORY', 'ISO_WEEKSTARTDATE', 'ISO_YEAR', 'ISO_WEEK',\n",
      "       'MMWR_WEEKSTARTDATE', 'MMWR_YEAR', 'MMWR_WEEK', 'ORIGIN_SOURCE',\n",
      "       'SPEC_PROCESSED_NB', 'SPEC_RECEIVED_NB', 'AH1N12009', 'AH1', 'AH3',\n",
      "       'AH5', 'AH7N9', 'ANOTSUBTYPED', 'ANOTSUBTYPABLE', 'AOTHER_SUBTYPE',\n",
      "       'AOTHER_SUBTYPE_DETAILS', 'INF_A', 'BVIC_2DEL', 'BVIC_3DEL',\n",
      "       'BVIC_NODEL', 'BVIC_DELUNK', 'BYAM', 'BNOTDETERMINED', 'INF_B',\n",
      "       'INF_ALL', 'INF_NEGATIVE', 'ILI_ACTIVITY', 'ADENO', 'BOCA',\n",
      "       'HUMAN_CORONA', 'METAPNEUMO', 'PARAINFLUENZA', 'RHINO', 'RSV_PROCESSED',\n",
      "       'RSV', 'OTHERRESPVIRUS', 'OTHER_RESPVIRUS_DETAILS',\n",
      "       'LAB_RESULT_COMMENT', 'WCR_COMMENT', 'ISO2', 'ISOYW', 'MMWRYW',\n",
      "       'PSOURCE_SUBTYPE_INF', 'PSOURCE_PPOS_INF', 'PSOURCE_RSV'],\n",
      "      dtype='object')\n",
      "Index(['iso_code', 'continent', 'location', 'date', 'total_cases', 'new_cases',\n",
      "       'new_cases_smoothed', 'total_deaths', 'new_deaths',\n",
      "       'new_deaths_smoothed', 'total_cases_per_million',\n",
      "       'new_cases_per_million', 'new_cases_smoothed_per_million',\n",
      "       'total_deaths_per_million', 'new_deaths_per_million',\n",
      "       'new_deaths_smoothed_per_million', 'reproduction_rate', 'icu_patients',\n",
      "       'icu_patients_per_million', 'hosp_patients',\n",
      "       'hosp_patients_per_million', 'weekly_icu_admissions',\n",
      "       'weekly_icu_admissions_per_million', 'weekly_hosp_admissions',\n",
      "       'weekly_hosp_admissions_per_million', 'total_tests', 'new_tests',\n",
      "       'total_tests_per_thousand', 'new_tests_per_thousand',\n",
      "       'new_tests_smoothed', 'new_tests_smoothed_per_thousand',\n",
      "       'positive_rate', 'tests_per_case', 'tests_units', 'total_vaccinations',\n",
      "       'people_vaccinated', 'people_fully_vaccinated', 'total_boosters',\n",
      "       'new_vaccinations', 'new_vaccinations_smoothed',\n",
      "       'total_vaccinations_per_hundred', 'people_vaccinated_per_hundred',\n",
      "       'people_fully_vaccinated_per_hundred', 'total_boosters_per_hundred',\n",
      "       'new_vaccinations_smoothed_per_million',\n",
      "       'new_people_vaccinated_smoothed',\n",
      "       'new_people_vaccinated_smoothed_per_hundred', 'stringency_index',\n",
      "       'population_density', 'median_age', 'aged_65_older', 'aged_70_older',\n",
      "       'gdp_per_capita', 'extreme_poverty', 'cardiovasc_death_rate',\n",
      "       'diabetes_prevalence', 'female_smokers', 'male_smokers',\n",
      "       'handwashing_facilities', 'hospital_beds_per_thousand',\n",
      "       'life_expectancy', 'human_development_index', 'population',\n",
      "       'excess_mortality_cumulative_absolute', 'excess_mortality_cumulative',\n",
      "       'excess_mortality', 'excess_mortality_cumulative_per_million'],\n",
      "      dtype='object')\n"
     ]
    }
   ],
   "source": [
    "print(flunet.columns)\n",
    "print(covid.columns)"
   ]
  },
  {
   "cell_type": "code",
   "execution_count": 13,
   "id": "886e6ab4",
   "metadata": {},
   "outputs": [
    {
     "data": {
      "image/png": "[encoded data removed]",
      "text/plain": [
       "<Figure size 1000x400 with 1 Axes>"
      ]
     },
     "metadata": {},
     "output_type": "display_data"
    }
   ],
   "source": [
    "import matplotlib.pyplot as plt\n",
    "covid['new_cases'].plot(figsize=(10,4), title=\"Global COVID New Cases\")\n",
    "plt.show()"
   ]
  }
 ],
 "metadata": {
  "kernelspec": {
   "display_name": "Python 3",
   "language": "python",
   "name": "python3"
  },
  "language_info": {
   "codemirror_mode": {
    "name": "ipython",
    "version": 3
   },
   "file_extension": ".py",
   "mimetype": "text/x-python",
   "name": "python",
   "nbconvert_exporter": "python",
   "pygments_lexer": "ipython3",
   "version": "3.10.11"
  }
 },
 "nbformat": 4,
 "nbformat_minor": 5
}
